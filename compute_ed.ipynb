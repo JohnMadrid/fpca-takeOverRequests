{
 "cells": [
  {
   "metadata": {},
   "cell_type": "markdown",
   "source": "# Effective Dimensionality",
   "id": "9d2ffa61124fb58e"
  },
  {
   "cell_type": "code",
   "id": "initial_id",
   "metadata": {
    "collapsed": true,
    "ExecuteTime": {
     "end_time": "2025-05-08T17:19:13.015286Z",
     "start_time": "2025-05-08T17:19:13.013472Z"
    }
   },
   "source": [
    "import numpy as np\n",
    "import pandas as pd"
   ],
   "outputs": [],
   "execution_count": 1
  },
  {
   "metadata": {},
   "cell_type": "code",
   "outputs": [],
   "execution_count": null,
   "source": [
    "def compute_ED_estimators(eigenvalues):\n",
    "    \"\"\"\n",
    "    Compute Effective Dimensionality estimators from eigenvalues.\n",
    "    Parameters:\n",
    "    eigenvalues (list or array): List of eigenvalues.\n",
    "    Returns:\n",
    "    dict: Dictionary containing various ED estimators (n1, n2, nInf, nC).\n",
    "    \"\"\"\n",
    "    output = {}\n",
    "\n",
    "    # Make eigenvalues a numpy array for easier manipulation\n",
    "    eigen_val = np.array(eigenvalues)\n",
    "\n",
    "    # Compute ED estimators\n",
    "    K = len(eigen_val)\n",
    "    eigen_sum = np.sum(eigen_val)\n",
    "    norm_eigen_val = eigen_val / eigen_sum\n",
    "\n",
    "    # Calculate variance using the K/(K-1) adjustment\n",
    "    eigen_var = np.var(eigen_val, ddof=0) * ((K - 1) / K)\n",
    "\n",
    "    # Calculate the four different estimators\n",
    "    output[\"n1\"] = np.prod(norm_eigen_val ** (-norm_eigen_val))\n",
    "    output[\"n2\"] = (eigen_sum ** 2) / np.sum(eigen_val ** 2)\n",
    "    output[\"nInf\"] = eigen_sum / np.max(eigen_val)\n",
    "    output[\"nC\"] = K - ((K ** 2) / (eigen_sum ** 2)) * eigen_var\n",
    "\n",
    "    return output\n",
    "\n",
    "# Process eigenvalues_df DataFrame\n",
    "def calculate_ED(df):\n",
    "    \"\"\"\n",
    "    Process eigenvalues from a DataFrame to compute ED estimators per timestamp.\n",
    "    Parameters:\n",
    "    df (DataFrame): A DataFrame containing eigenvalues and a Time column.\n",
    "    Returns:\n",
    "    DataFrame: A new DataFrame containing ED estimators and the Time column.\n",
    "    \"\"\"\n",
    "    results = []\n",
    "\n",
    "    for _, row in df.iterrows():\n",
    "        # Exclude Time, Event col and handle NaNs (if any)\n",
    "        eigenvalues = row[:-2].dropna()\n",
    "        time = row['Time']\n",
    "        event = row['Event']\n",
    "        ed_estimators = compute_ED_estimators(eigenvalues)\n",
    "        ed_estimators['Time'] = time\n",
    "        ed_estimators['Event'] = event\n",
    "        results.append(ed_estimators)\n",
    "\n",
    "    # Convert results to a DataFrame\n",
    "    processed_df = pd.DataFrame(results)\n",
    "    return processed_df\n",
    "\n",
    "# Apply function to eigenvalues_df\n",
    "ed_df = calculate_ED(eigenvalues_df)\n",
    "\n",
    "# Display the resulting DataFrame\n",
    "ed_df"
   ],
   "id": "5fc848df7908363d"
  }
 ],
 "metadata": {
  "kernelspec": {
   "display_name": "Python 3",
   "language": "python",
   "name": "python3"
  },
  "language_info": {
   "codemirror_mode": {
    "name": "ipython",
    "version": 2
   },
   "file_extension": ".py",
   "mimetype": "text/x-python",
   "name": "python",
   "nbconvert_exporter": "python",
   "pygments_lexer": "ipython2",
   "version": "2.7.6"
  }
 },
 "nbformat": 4,
 "nbformat_minor": 5
}
